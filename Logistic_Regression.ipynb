{
  "nbformat": 4,
  "nbformat_minor": 0,
  "metadata": {
    "colab": {
      "provenance": [],
      "authorship_tag": "ABX9TyN2oUY2I/xVJNL++ZHYm2QN",
      "include_colab_link": true
    },
    "kernelspec": {
      "name": "python3",
      "display_name": "Python 3"
    },
    "language_info": {
      "name": "python"
    }
  },
  "cells": [
    {
      "cell_type": "markdown",
      "metadata": {
        "id": "view-in-github",
        "colab_type": "text"
      },
      "source": [
        "<a href=\"https://colab.research.google.com/github/se7618-coder/MLDA/blob/main/Logistic_Regression.ipynb\" target=\"_parent\"><img src=\"https://colab.research.google.com/assets/colab-badge.svg\" alt=\"Open In Colab\"/></a>"
      ]
    },
    {
      "cell_type": "code",
      "execution_count": 1,
      "metadata": {
        "colab": {
          "base_uri": "https://localhost:8080/"
        },
        "id": "khMxsXOWxFsN",
        "outputId": "8fd062f4-177d-464f-cee2-63ab890d459f"
      },
      "outputs": [
        {
          "output_type": "stream",
          "name": "stdout",
          "text": [
            "       State       City           Restaurant Name              Location  \\\n",
            "0  Karnataka  Bengaluru  Anand Sweets & Savouries  Rajarajeshwari Nagar   \n",
            "1  Karnataka  Bengaluru     Srinidhi Sagar Deluxe               Kengeri   \n",
            "2  Karnataka  Bengaluru     Srinidhi Sagar Deluxe               Kengeri   \n",
            "3  Karnataka  Bengaluru     Srinidhi Sagar Deluxe               Kengeri   \n",
            "4  Karnataka  Bengaluru     Srinidhi Sagar Deluxe               Kengeri   \n",
            "\n",
            "      Category             Dish Name  Price (INR)  Rating  Rating Count  \n",
            "0        Snack  Butter Murukku-200gm        133.9     0.0           0.0  \n",
            "1  Recommended            Badam Milk         52.0     4.5          25.0  \n",
            "2  Recommended        Chow Chow Bath        117.0     4.7          48.0  \n",
            "3  Recommended           Kesari Bath         65.0     4.6          65.0  \n",
            "4  Recommended            Mix Raitha        130.0     0.0           0.0  \n",
            "y_test shape: (7787,)\n",
            "y_lr_pred shape: (7787,)\n",
            "Logistic Regression Accuracy: 0.6806215487350713\n"
          ]
        }
      ],
      "source": [
        "\n",
        "import pandas as pd\n",
        "from sklearn.preprocessing import LabelEncoder\n",
        "from sklearn.model_selection import train_test_split\n",
        "from sklearn.linear_model import LogisticRegression\n",
        "from sklearn.metrics import accuracy_score\n",
        "\n",
        "# Load dataset\n",
        "data = pd.read_csv(\"swiggy_all_menus_india.csv\", encoding=\"latin1\")\n",
        "print(data.head())\n",
        "\n",
        "# Encode categorical features\n",
        "le = LabelEncoder()\n",
        "data[\"Category\"] = le.fit_transform(data[\"Category\"])\n",
        "data[\"City\"] = le.fit_transform(data[\"City\"])\n",
        "data[\"State\"] = le.fit_transform(data[\"State\"])\n",
        "data[\"Restaurant Name\"] = le.fit_transform(data[\"Restaurant Name\"])\n",
        "\n",
        "# Drop missing values\n",
        "data = data.dropna(subset=[\"Rating\", \"Rating Count\"])\n",
        "\n",
        "# Features\n",
        "x = data[[\"Rating Count\", \"Category\", \"City\", \"State\", \"Restaurant Name\"]]\n",
        "\n",
        "# Target variable: Good dish (1 if Rating >= 4.0 else 0)\n",
        "y = (data[\"Rating\"] >= 4.0).astype(int)\n",
        "\n",
        "# Split dataset\n",
        "x_train, x_test, y_train, y_test = train_test_split(x, y, test_size=0.2, random_state=2)\n",
        "\n",
        "# Logistic Regression model\n",
        "lr = LogisticRegression(max_iter=1000)\n",
        "lr.fit(x_train, y_train)\n",
        "\n",
        "# Predictions\n",
        "y_lr_pred = lr.predict(x_test)\n",
        "\n",
        "# Shape check\n",
        "print(\"y_test shape:\", y_test.shape)\n",
        "print(\"y_lr_pred shape:\", y_lr_pred.shape)\n",
        "\n",
        "# Accuracy\n",
        "accuracy_lr = accuracy_score(y_test, y_lr_pred)\n",
        "print(\"Logistic Regression Accuracy:\", accuracy_lr)"
      ]
    }
  ]
}