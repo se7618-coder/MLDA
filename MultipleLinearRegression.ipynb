{
  "nbformat": 4,
  "nbformat_minor": 0,
  "metadata": {
    "colab": {
      "provenance": [],
      "authorship_tag": "ABX9TyOrBq2wW8wc5yPpUEEEkUgR",
      "include_colab_link": true
    },
    "kernelspec": {
      "name": "python3",
      "display_name": "Python 3"
    },
    "language_info": {
      "name": "python"
    }
  },
  "cells": [
    {
      "cell_type": "markdown",
      "metadata": {
        "id": "view-in-github",
        "colab_type": "text"
      },
      "source": [
        "<a href=\"https://colab.research.google.com/github/se7618-coder/MLDA/blob/main/MultipleLinearRegression.ipynb\" target=\"_parent\"><img src=\"https://colab.research.google.com/assets/colab-badge.svg\" alt=\"Open In Colab\"/></a>"
      ]
    },
    {
      "cell_type": "code",
      "execution_count": null,
      "metadata": {
        "colab": {
          "base_uri": "https://localhost:8080/"
        },
        "id": "EKOZsuPfpbfz",
        "outputId": "ccb7a198-6a46-42ad-b1ec-f94b1e4627ff"
      },
      "outputs": [
        {
          "output_type": "stream",
          "name": "stdout",
          "text": [
            "       State       City           Restaurant Name              Location  \\\n",
            "0  Karnataka  Bengaluru  Anand Sweets & Savouries  Rajarajeshwari Nagar   \n",
            "1  Karnataka  Bengaluru     Srinidhi Sagar Deluxe               Kengeri   \n",
            "2  Karnataka  Bengaluru     Srinidhi Sagar Deluxe               Kengeri   \n",
            "3  Karnataka  Bengaluru     Srinidhi Sagar Deluxe               Kengeri   \n",
            "4  Karnataka  Bengaluru     Srinidhi Sagar Deluxe               Kengeri   \n",
            "\n",
            "      Category             Dish Name  Price (INR)  Rating  Rating Count  \n",
            "0        Snack  Butter Murukku-200gm        133.9     0.0           0.0  \n",
            "1  Recommended            Badam Milk         52.0     4.5          25.0  \n",
            "2  Recommended        Chow Chow Bath        117.0     4.7          48.0  \n",
            "3  Recommended           Kesari Bath         65.0     4.6          65.0  \n",
            "4  Recommended            Mix Raitha        130.0     0.0           0.0  \n",
            "Linear Regression MSE: 58081.84306377981\n",
            "Linear Regression R²: 0.0208096783336994\n"
          ]
        }
      ],
      "source": [
        "import pandas as pd\n",
        "from sklearn.preprocessing import LabelEncoder\n",
        "from sklearn.model_selection import train_test_split\n",
        "from sklearn.linear_model import LinearRegression\n",
        "from sklearn.metrics import mean_squared_error, r2_score\n",
        "\n",
        "# Load dataset\n",
        "data = pd.read_csv(\"swiggy_all_menus_india.csv\", encoding=\"latin1\")\n",
        "print(data.head())\n",
        "\n",
        "# Encode categorical columns\n",
        "le = LabelEncoder()\n",
        "data[\"Category\"] = le.fit_transform(data[\"Category\"])\n",
        "data[\"City\"] = le.fit_transform(data[\"City\"])\n",
        "data[\"State\"] = le.fit_transform(data[\"State\"])\n",
        "data[\"Restaurant Name\"] = le.fit_transform(data[\"Restaurant Name\"])\n",
        "\n",
        "# Drop missing values for Price, Rating, Rating Count\n",
        "data = data.dropna(subset=[\"Price (INR)\", \"Rating\", \"Rating Count\"])\n",
        "\n",
        "# Independent variables (multiple features)\n",
        "x = data[[\"Rating\", \"Rating Count\", \"Category\", \"City\", \"State\", \"Restaurant Name\"]]\n",
        "\n",
        "# Dependent variable (target)\n",
        "y = data[\"Price (INR)\"]\n",
        "\n",
        "# Split dataset\n",
        "x_train, x_test, y_train, y_test = train_test_split(x, y, test_size=0.2, random_state=2)\n",
        "\n",
        "# Multiple Linear Regression\n",
        "lrr = LinearRegression()\n",
        "lrr.fit(x_train, y_train)\n",
        "\n",
        "# Predictions\n",
        "y_lrr_pred = lrr.predict(x_test)\n",
        "\n",
        "# Performance metrics\n",
        "mse = mean_squared_error(y_test, y_lrr_pred)\n",
        "r2 = r2_score(y_test, y_lrr_pred)\n",
        "\n",
        "print(\"Linear Regression MSE:\", mse)\n",
        "print(\"Linear Regression R²:\", r2)"
      ]
    }
  ]
}