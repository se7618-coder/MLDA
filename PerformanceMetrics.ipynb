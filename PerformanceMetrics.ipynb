{
  "nbformat": 4,
  "nbformat_minor": 0,
  "metadata": {
    "colab": {
      "provenance": [],
      "authorship_tag": "ABX9TyO6IPrjlXnjL+l3nXFGiM5G",
      "include_colab_link": true
    },
    "kernelspec": {
      "name": "python3",
      "display_name": "Python 3"
    },
    "language_info": {
      "name": "python"
    }
  },
  "cells": [
    {
      "cell_type": "markdown",
      "metadata": {
        "id": "view-in-github",
        "colab_type": "text"
      },
      "source": [
        "<a href=\"https://colab.research.google.com/github/se7618-coder/MLDA/blob/main/PerformanceMetrics.ipynb\" target=\"_parent\"><img src=\"https://colab.research.google.com/assets/colab-badge.svg\" alt=\"Open In Colab\"/></a>"
      ]
    },
    {
      "cell_type": "code",
      "execution_count": null,
      "metadata": {
        "id": "K9LgaOH-lcjq",
        "colab": {
          "base_uri": "https://localhost:8080/"
        },
        "outputId": "cae0ce37-2760-4bb3-9174-c175dadc1b2c"
      },
      "outputs": [
        {
          "output_type": "stream",
          "name": "stdout",
          "text": [
            "       State       City           Restaurant Name              Location  \\\n",
            "0  Karnataka  Bengaluru  Anand Sweets & Savouries  Rajarajeshwari Nagar   \n",
            "1  Karnataka  Bengaluru     Srinidhi Sagar Deluxe               Kengeri   \n",
            "2  Karnataka  Bengaluru     Srinidhi Sagar Deluxe               Kengeri   \n",
            "3  Karnataka  Bengaluru     Srinidhi Sagar Deluxe               Kengeri   \n",
            "4  Karnataka  Bengaluru     Srinidhi Sagar Deluxe               Kengeri   \n",
            "\n",
            "      Category             Dish Name  Price (INR)  Rating  Rating Count  \n",
            "0        Snack  Butter Murukku-200gm        133.9     0.0           0.0  \n",
            "1  Recommended            Badam Milk         52.0     4.5          25.0  \n",
            "2  Recommended        Chow Chow Bath        117.0     4.7          48.0  \n",
            "3  Recommended           Kesari Bath         65.0     4.6          65.0  \n",
            "4  Recommended            Mix Raitha        130.0     0.0           0.0  \n",
            "Decision Tree Classification Accuracy: 1.0\n",
            "Linear Regression MSE: 51967.4311893578\n",
            "Linear Regression R²: 0.014382646695778933\n"
          ]
        }
      ],
      "source": [
        "import pandas as pd\n",
        "from sklearn.preprocessing import LabelEncoder\n",
        "from sklearn.model_selection import train_test_split\n",
        "from sklearn.tree import DecisionTreeClassifier\n",
        "from sklearn.linear_model import LinearRegression\n",
        "from sklearn.metrics import accuracy_score, mean_squared_error, r2_score\n",
        "\n",
        "# Load dataset\n",
        "data = pd.read_csv(\"Swiggy.csv\")\n",
        "print(data.head())\n",
        "\n",
        "# Encode categorical features\n",
        "le = LabelEncoder()\n",
        "data[\"Category\"] = le.fit_transform(data[\"Category\"])\n",
        "data[\"City\"] = le.fit_transform(data[\"City\"])\n",
        "data[\"State\"] = le.fit_transform(data[\"State\"])\n",
        "data[\"Restaurant Name\"] = le.fit_transform(data[\"Restaurant Name\"])\n",
        "\n",
        "# Handle missing values\n",
        "data = data.dropna(subset=[\"Price (INR)\", \"Rating\", \"Rating Count\"])\n",
        "\n",
        "# Feature set\n",
        "x = data[[\"Rating\", \"Rating Count\", \"Category\", \"City\", \"State\", \"Restaurant Name\"]]\n",
        "y_class = (data[\"Rating\"] >= 4.0).astype(int)   # Classification: Good dish or not\n",
        "y_reg = data[\"Price (INR)\"]                     # Regression: Predict price\n",
        "\n",
        "# Split data\n",
        "x_train, x_test, y_train_class, y_test_class = train_test_split(x, y_class, test_size=0.2, random_state=42)\n",
        "_, _, y_train_reg, y_test_reg = train_test_split(x, y_reg, test_size=0.2, random_state=42)\n",
        "\n",
        "# ---------------- Classification ----------------\n",
        "dt = DecisionTreeClassifier(criterion=\"entropy\")\n",
        "dt.fit(x_train, y_train_class)\n",
        "y_dt_pred = dt.predict(x_test)\n",
        "accuracy_dt = accuracy_score(y_test_class, y_dt_pred)\n",
        "print(\"Decision Tree Classification Accuracy:\", accuracy_dt)\n",
        "\n",
        "# ---------------- Regression ----------------\n",
        "lrr = LinearRegression()\n",
        "lrr.fit(x_train, y_train_reg)\n",
        "y_lrr_pred = lrr.predict(x_test)\n",
        "\n",
        "mse = mean_squared_error(y_test_reg, y_lrr_pred)\n",
        "r2 = r2_score(y_test_reg, y_lrr_pred)\n",
        "\n",
        "print(\"Linear Regression MSE:\", mse)\n",
        "print(\"Linear Regression R²:\", r2)"
      ]
    }
  ]
}